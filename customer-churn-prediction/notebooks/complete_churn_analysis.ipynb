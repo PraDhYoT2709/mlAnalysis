{
  "cells": [
    {
      "cell_type": "markdown",
      "metadata": {},
      "source": [
        "# Customer Churn Prediction - Complete Analysis\n",
        "\n",
        "This notebook demonstrates a comprehensive approach to customer churn prediction using both SQL analysis and machine learning techniques.\n",
        "\n",
        "## Project Overview\n",
        "- **Objective**: Predict customer churn and identify key factors\n",
        "- **Dataset**: Telco Customer Churn (7,043 customers, 21 features)\n",
        "- **Approach**: SQL analysis + ML models + SHAP explainability\n",
        "- **Models**: Logistic Regression, Random Forest, XGBoost\n",
        "\n",
        "---"
      ]
    }
  ],
  "metadata": {
    "kernelspec": {
      "display_name": "Python 3",
      "language": "python",
      "name": "python3"
    },
    "language_info": {
      "name": "python",
      "version": "3.8.5"
    }
  },
  "nbformat": 4,
  "nbformat_minor": 4
}